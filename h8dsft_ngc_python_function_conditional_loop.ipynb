{
 "cells": [
  {
   "cell_type": "markdown",
   "metadata": {},
   "source": [
    "### Nama  : Athalla Rafly Mahardhika Noegroho\n",
    "### Batch : HCK-009"
   ]
  },
  {
   "cell_type": "markdown",
   "metadata": {},
   "source": [
    "### Task #1 - Number of Word\n",
    "\n",
    "Instruction:\n",
    "1. Create function called `number_of_word`.\n",
    "2. This function takes 1 input, `sentence`.\n",
    "3. Inside this function, you can utilize `.split()` method to split the sentence into list of word(s).\n",
    "4. Also, `len()` function to count the element inside a list.\n",
    "5. Return the number of word from the sentence.\n",
    "Example:\n",
    "- Input : number_of_word(sentence = ’Hello World!’)\n",
    "- Output : 2\n",
    "- Input : number_of_word(sentence = ’Once Upon a Time in a faraway land’)\n",
    "- Output : 8\n"
   ]
  },
  {
   "cell_type": "code",
   "execution_count": 5,
   "metadata": {},
   "outputs": [
    {
     "name": "stdout",
     "output_type": "stream",
     "text": [
      "Number of Word:  2\n"
     ]
    }
   ],
   "source": [
    "def number_of_word(sentence):\n",
    "\n",
    "    kalimat = sentence.split()\n",
    "\n",
    "    numKalimat = len(kalimat)\n",
    "\n",
    "    return numKalimat\n",
    "\n",
    "sentence = \"Hello World!\"\n",
    "result = number_of_word(sentence)\n",
    "print(\"Number of Word: \", result)"
   ]
  },
  {
   "cell_type": "code",
   "execution_count": 6,
   "metadata": {},
   "outputs": [
    {
     "name": "stdout",
     "output_type": "stream",
     "text": [
      "Number of Word:  8\n"
     ]
    }
   ],
   "source": [
    "def number_of_word(sentence):\n",
    "\n",
    "    kalimat = sentence.split()\n",
    "\n",
    "    numKalimat = len(kalimat)\n",
    "\n",
    "    return numKalimat\n",
    "\n",
    "sentence = \"Once Upon a Time in a faraway land\"\n",
    "result = number_of_word(sentence)\n",
    "print(\"Number of Word: \", result)"
   ]
  },
  {
   "cell_type": "markdown",
   "metadata": {},
   "source": [
    "### Task #2 Find Multiple\n",
    "\n",
    "Instruction:\n",
    "1. Create function called `find_multiples`.\n",
    "2. This function takes 3 input: `start_range`, `end_range`, and `multiple`.\n",
    "3. From every number within the given range, check if that number is the mutliples of `multiple`.\n",
    "4. Return list of the possible multiple number(s).\n",
    "Example:\n",
    "- Input : find_multiple(start_range= 1, end_range= 20, multiple= 5)\n",
    "- Output : [5, 10, 15, 20]\n",
    "- Input : find_multiple(start_range= 1, end_range= 50, multiple= 10)\n",
    "- Output : [10, 20, 30, 40, 50]\n"
   ]
  },
  {
   "cell_type": "code",
   "execution_count": 11,
   "metadata": {},
   "outputs": [
    {
     "name": "stdout",
     "output_type": "stream",
     "text": [
      "[5, 10, 15, 20]\n",
      "[10, 20, 30, 40, 50]\n"
     ]
    }
   ],
   "source": [
    "def find_multiples(start_range, end_range, multiple):\n",
    "    list = []\n",
    "\n",
    "    for number in range (start_range, end_range +1):\n",
    "        if number % multiple == 0:\n",
    "            list.append(number)\n",
    "            \n",
    "    return list\n",
    "\n",
    "result1 = find_multiples(start_range=1, end_range=20, multiple=5)\n",
    "print(result1)\n",
    "\n",
    "result2 = find_multiples(start_range=1, end_range=50, multiple=10)\n",
    "print(result2)\n"
   ]
  },
  {
   "cell_type": "markdown",
   "metadata": {},
   "source": []
  },
  {
   "cell_type": "markdown",
   "metadata": {},
   "source": [
    "### Task #3 - Grade Converter\n",
    "Create a function that will convert student’s grade to GPA.\n",
    "Instruction:\n",
    "1. Create function called `Grade_Converter`.\n",
    "2. This function takes input: `convert_to` and n-paired of \n",
    "student(s) name with its respective score.\n",
    "3. Input argument for `convert_to` is either `letter_grade` or \n",
    "`gpa`.\n",
    "4. You can utilize **kwargs input argument to generate \n",
    "n-length paired of student(s) name with its respective score \n",
    "(Dictionary).\n",
    "5. This function will return dictionary of student’s name along \n",
    "with converted Letter Grade or GPA, depending on user \n",
    "input in `convert_to` parameter.\n",
    "\n",
    "Example:\n",
    "- Input : Grade_Converter(convert_to='gpa', Adam=62, \n",
    "Faiz=91)\n",
    "- Output: {'Adam': 2.5, 'Faiz': 4}\n",
    "- Input : Grade_Converter(convert_to='letter_grade', \n",
    "Albert=90, Dwi=82, Syahdan=58, Veronica=84)\n",
    "- Output: {'Albert': 'A', 'Dwi': 'B', 'Syahdan': 'D',\n",
    "'Veronica': 'B'}\n"
   ]
  },
  {
   "cell_type": "code",
   "execution_count": null,
   "metadata": {},
   "outputs": [],
   "source": [
    "def Grade_Converter(convert_to, **kwargs):\n",
    "    def calculate_gpa(score):\n",
    "        if score >= 85:\n",
    "            return 4\n",
    "        elif score >= 70:\n",
    "            return 3\n",
    "        elif score >= 60:\n",
    "            return 2.5\n",
    "        elif score >= 50:\n",
    "            return 2\n",
    "        elif score >= 40:\n",
    "            return 1.5\n",
    "        else:\n",
    "            return 1\n",
    "    \n",
    "    def convert_to_grade(score):\n",
    "        if score >= 85:\n",
    "            return \"A\"\n",
    "        if score >= 70:\n",
    "            return \"B\"\n",
    "        if score >= 60:\n",
    "            return \"C\"\n",
    "        if score >= 50:\n",
    "            return \"D\"\n",
    "        if score >= 40:\n",
    "            return \"E\"\n",
    "        else:\n",
    "            return \"F\"\n",
    "        "
   ]
  },
  {
   "cell_type": "markdown",
   "metadata": {},
   "source": [
    "### Task #4 - Fibonacci Sequence\n",
    "Fibonacci sequence is a sequence in which each number is the sum of the two preceding ones. Suppose we have fibonacci \n",
    "sequence started with:\n",
    "0, 1, 1, 2, 3, 5, …\n",
    "The next number should be 8 or sum of the two precedings, 3 and 5:\n",
    "0, 1, 1, 2, 3, 5, 8, …\n",
    "Then the next number should be 13 or sum of the two precedings, 5 and 8:\n",
    "0, 1, 1, 2, 3, 5, 8, 13, …\n",
    "And so on.\n",
    "\n",
    "Instruction:\n",
    "1. The function will take 1 input parameter, n, represents the asked number from our fibonacci sequence index.\n",
    "2. The fibonacci sequence will start with the value of 0 and 1.\n",
    "3. This function will return the n-th value from fibonacci sequence."
   ]
  },
  {
   "cell_type": "code",
   "execution_count": 14,
   "metadata": {},
   "outputs": [
    {
     "name": "stdout",
     "output_type": "stream",
     "text": [
      "5\n"
     ]
    }
   ],
   "source": [
    "def fibonacci(n):\n",
    "\n",
    "    if n < 0 :\n",
    "        print(\"salah\")\n",
    "    \n",
    "    elif n == 0:\n",
    "        return 0\n",
    "    \n",
    "    elif n == 1 or n == 2:\n",
    "        return 1\n",
    "    \n",
    "    else:\n",
    "        return fibonacci(n-1) + fibonacci(n-2)\n",
    "    \n",
    "print(fibonacci(5))"
   ]
  },
  {
   "cell_type": "code",
   "execution_count": null,
   "metadata": {},
   "outputs": [],
   "source": []
  }
 ],
 "metadata": {
  "kernelspec": {
   "display_name": "base",
   "language": "python",
   "name": "python3"
  },
  "language_info": {
   "codemirror_mode": {
    "name": "ipython",
    "version": 3
   },
   "file_extension": ".py",
   "mimetype": "text/x-python",
   "name": "python",
   "nbconvert_exporter": "python",
   "pygments_lexer": "ipython3",
   "version": "3.11.4"
  },
  "orig_nbformat": 4
 },
 "nbformat": 4,
 "nbformat_minor": 2
}
